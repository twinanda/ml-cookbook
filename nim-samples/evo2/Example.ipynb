{
 "cells": [
  {
   "cell_type": "markdown",
   "id": "2af22994-5db8-415a-b227-81118c35a79e",
   "metadata": {},
   "source": [
    "# Imports"
   ]
  },
  {
   "cell_type": "code",
   "execution_count": null,
   "id": "0799eadd-9ae5-44b0-87be-66bd4c3235cf",
   "metadata": {
    "scrolled": true
   },
   "outputs": [],
   "source": [
    "# Uncomment the line below and execute this cell if you are missing the modules required in this notebook\n",
    "#%pip install requests httpx numpy polars scipy matplotlib"
   ]
  },
  {
   "cell_type": "code",
   "execution_count": null,
   "id": "e85db436-03cf-4e94-9a84-5c2999cb2021",
   "metadata": {},
   "outputs": [],
   "source": [
    "import base64\n",
    "import io\n",
    "import os\n",
    "import gzip\n",
    "import json\n",
    "import requests\n",
    "from requests.auth import HTTPBasicAuth\n",
    "\n",
    "import numpy as np\n",
    "import polars as pl\n",
    "from scipy.special import log_softmax\n",
    "import matplotlib.pyplot as plt\n",
    "import httpx"
   ]
  },
  {
   "cell_type": "markdown",
   "id": "76d85365-8ee0-40df-aa9c-26bc7775f356",
   "metadata": {},
   "source": [
    "# Fetch the reference promoter from NCBI"
   ]
  },
  {
   "cell_type": "markdown",
   "id": "562b22dc-5ef0-4710-b85f-e13e70a19fe7",
   "metadata": {},
   "source": [
    "We’ll compute a promoter window around the LDLR TSS. Using the ClinGen gene page (GRCh38 LDLR coordinates), we’ll set TSS = 11089463 (forward strand) and take +- 5kbp range. Then we’ll fetch from NC_000019.10 (GRCh38 chr19) using E-utilities efetch"
   ]
  },
  {
   "cell_type": "code",
   "execution_count": null,
   "id": "e96005f1-88be-4452-b917-3a984084e64a",
   "metadata": {},
   "outputs": [],
   "source": [
    "NCBI_NUCCORE_ACC = \"NC_000019.10\"      # GRCh38 chr19\n",
    "LDLR_TSS = 11089463                    # https://search.clinicalgenome.org/kb/genes/HGNC:6547/by-disease\n",
    "RANGE = 5_000\n",
    "PROMOTER_START = LDLR_TSS - RANGE\n",
    "PROMOTER_END   = LDLR_TSS + RANGE - 1\n",
    "STRAND = 1                             # forward"
   ]
  },
  {
   "cell_type": "code",
   "execution_count": null,
   "id": "7b8a82a0-66f5-4584-b643-62a0abf3cdbb",
   "metadata": {},
   "outputs": [],
   "source": [
    "def fetch_fasta_region_ncbi(acc: str, start: int, end: int, strand: int=1) -> str:\n",
    "    \"\"\"Fetch FASTA for a genomic slice via NCBI efetch\"\"\"\n",
    "    \n",
    "    url = \"https://eutils.ncbi.nlm.nih.gov/entrez/eutils/efetch.fcgi\"\n",
    "    params = dict(db=\"nuccore\", id=acc, rettype=\"fasta\", retmode=\"text\",\n",
    "                  seq_start=start, seq_stop=end, strand=strand)\n",
    "    with httpx.Client(timeout=60) as cx:\n",
    "        r = cx.get(url, params=params)\n",
    "        r.raise_for_status()\n",
    "    return r.text\n",
    "\n",
    "def parse_fasta_sequence(fasta_text: str) -> str:\n",
    "    lines = [ln.strip() for ln in fasta_text.splitlines() if ln.strip()]\n",
    "    seq_lines = [ln for ln in lines if not ln.startswith(\">\")]\n",
    "    return \"\".join(seq_lines).upper()"
   ]
  },
  {
   "cell_type": "code",
   "execution_count": null,
   "id": "d9939a4d-8b2c-4e41-bc19-761211317e30",
   "metadata": {},
   "outputs": [],
   "source": [
    "fasta_txt = fetch_fasta_region_ncbi(NCBI_NUCCORE_ACC, PROMOTER_START, PROMOTER_END, STRAND)\n",
    "ref_seq = parse_fasta_sequence(fasta_txt)\n",
    "print(f\"Fetched promoter window: {NCBI_NUCCORE_ACC}:{PROMOTER_START}-{PROMOTER_END} len={len(ref_seq)} bp\")"
   ]
  },
  {
   "cell_type": "markdown",
   "id": "1e7561aa-28e5-4ea7-8bcd-1ad38631e804",
   "metadata": {},
   "source": [
    "# Call Evo 2 NIM /forward and decode logits"
   ]
  },
  {
   "cell_type": "markdown",
   "id": "560d5697-d3dd-459f-98ba-b7ea4a444b73",
   "metadata": {},
   "source": [
    "The Evo 2 NIM endpoints specify `/biology/arc/evo2/forward` with `output_layers=[\"output_layer\"]`. The response returns a Base64-encoded NPZ; the output_layer array has shape `[seq_len, batch, 512]`. Map logits indices to bases using the ASCII mapping given in the docs: `A=65, C=67, T=84, G=71`."
   ]
  },
  {
   "cell_type": "code",
   "execution_count": null,
   "id": "0daed771-15c3-464c-a1ba-c51b5220a7aa",
   "metadata": {},
   "outputs": [],
   "source": [
    "host = '' # TODO: Fill in with the deployed NIM URL, without http://, https:// and forward slashes\n",
    "username = '<username>' # TODO: Fill in with username from\n",
    "password = '<password>' # TODO: Fill in with password from deployment\n",
    "\n",
    "EVO2_URL = f'https://{username}:{password}@{host}'\n",
    "FORWARD_EP=f\"{EVO2_URL}/biology/arc/evo2/forward\"\n"
   ]
  },
  {
   "cell_type": "code",
   "execution_count": null,
   "id": "c013bdef-a01d-486a-99fc-f369b1743cad",
   "metadata": {},
   "outputs": [],
   "source": [
    "# ASCII indices for DNA in Evo 2 tokenizer\n",
    "IDX = {\"A\": 65, \"C\": 67, \"T\": 84, \"G\": 71}\n",
    "DNA = set(\"ACTG\")"
   ]
  },
  {
   "cell_type": "code",
   "execution_count": null,
   "id": "0f199144-bc7f-483c-a99e-89e4fe4eba63",
   "metadata": {},
   "outputs": [],
   "source": [
    "def evo2_forward_logits(sequence: str) -> np.ndarray:\n",
    "    \"\"\"\n",
    "    Call Evo2 NIM forward endpoint and return [L, 4] log-probabilities for A,C,T,G at each position,\n",
    "    computed from output_layer logits via log_softmax.\n",
    "    \"\"\"\n",
    "    assert set(sequence).issubset(DNA), \"Sequence must be A/C/T/G only\"\n",
    "\n",
    "    payload = {\"sequence\": sequence, 'output_layers': ['output_layer']}\n",
    "    \n",
    "    r = requests.post(FORWARD_EP, json=payload, timeout=120)\n",
    "    r.raise_for_status()\n",
    "    data = r.json()  # { \"data\": \"<base64 npz>\", \"elapsed_ms\": ... }\n",
    "\n",
    "    arr = np.load(io.BytesIO(base64.b64decode(data[\"data\"])))\n",
    "    logits = arr[\"output_layer.output\"]  # [L, B, 512]\n",
    "\n",
    "    if logits.ndim != 3 or logits.shape[1] != 1:\n",
    "        raise ValueError(f\"Unexpected logits shape {logits.shape}\")\n",
    "\n",
    "    logits = logits[:, 0, :]  # [L, 512]\n",
    "\n",
    "    logp512 = log_softmax(logits, axis=1)\n",
    "    logp4 = np.vstack([\n",
    "        logp512[:, IDX[\"A\"]],\n",
    "        logp512[:, IDX[\"C\"]],\n",
    "        logp512[:, IDX[\"T\"]],\n",
    "        logp512[:, IDX[\"G\"]],\n",
    "    ]).T\n",
    "\n",
    "    return logp4\n"
   ]
  },
  {
   "cell_type": "code",
   "execution_count": null,
   "id": "34716dca-2011-4ed3-832e-db79f1a2192a",
   "metadata": {},
   "outputs": [],
   "source": []
  },
  {
   "cell_type": "code",
   "execution_count": null,
   "id": "a66fb8d7-8382-4f1e-b95c-b9a829ca86fd",
   "metadata": {},
   "outputs": [],
   "source": [
    "logp4 = evo2_forward_logits(ref_seq)"
   ]
  },
  {
   "cell_type": "code",
   "execution_count": null,
   "id": "9db3ae88-fcfd-48f5-a2d1-3ba58060a8b6",
   "metadata": {},
   "outputs": [],
   "source": []
  },
  {
   "cell_type": "code",
   "execution_count": null,
   "id": "0ee65fa1-b966-424b-aabe-d4ec3c8f3075",
   "metadata": {},
   "outputs": [],
   "source": []
  },
  {
   "cell_type": "markdown",
   "id": "dc501686-7820-4d3f-9333-b3abf17f2f02",
   "metadata": {},
   "source": [
    "# In-silico saturation mutagenesis (ΔlogP per SNV)"
   ]
  },
  {
   "cell_type": "markdown",
   "id": "ea071e96-4a80-4297-b17e-8e226efeef37",
   "metadata": {},
   "source": [
    "For each position, compute ΔlogP = logP(ALT) − logP(REF). Negative values suggest evo-prior intolerance at that position/base swap."
   ]
  },
  {
   "cell_type": "code",
   "execution_count": null,
   "id": "ef51c501-07e2-4e41-9680-dc2ab9d1fb57",
   "metadata": {},
   "outputs": [],
   "source": [
    "BASES = (\"A\", \"C\", \"T\", \"G\")\n",
    "bidx = {b: i for i, b in enumerate(BASES)}\n",
    "ref_arr = list(ref_seq)"
   ]
  },
  {
   "cell_type": "code",
   "execution_count": null,
   "id": "1486bde7-f34a-4c83-b626-c07fac3dc0fe",
   "metadata": {},
   "outputs": [],
   "source": [
    "# ΔlogP table: for each pos, each possible ALT != REF\n",
    "records: list[tuple[int, int, str, str, float]] = []\n",
    "for i, refb in enumerate(ref_arr):\n",
    "    for altb in BASES:\n",
    "        if altb == refb:\n",
    "            continue\n",
    "        dlogp = float(logp4[i, bidx[altb]] - logp4[i, bidx[refb]])\n",
    "        records.append((i, int(PROMOTER_START + i), refb, altb, dlogp))\n",
    "\n",
    "df = pl.DataFrame(\n",
    "    records,\n",
    "    schema={\n",
    "        \"pos0\": pl.Int64,\n",
    "        \"genomic_pos\": pl.Int64,\n",
    "        \"ref\": pl.Utf8,\n",
    "        \"alt\": pl.Utf8,\n",
    "        \"delta_logp\": pl.Float64,\n",
    "    },\n",
    "    orient=\"row\",\n",
    ").with_columns(\n",
    "    (pl.col(\"pos0\") - RANGE).alias(\"pos_rel_TSS\"),\n",
    "    pl.lit(\"LDLR\").alias(\"gene\"),\n",
    "    pl.lit(\"GRCh38\").alias(\"assembly\"),\n",
    "    pl.lit(\"NC_000019.10\").alias(\"chrom\"),\n",
    ")"
   ]
  },
  {
   "cell_type": "code",
   "execution_count": null,
   "id": "e75ecaa2-3932-4df9-be00-c4315ad4e7b5",
   "metadata": {},
   "outputs": [],
   "source": [
    "df"
   ]
  },
  {
   "cell_type": "code",
   "execution_count": null,
   "id": "247c1832-603f-4c5b-9b2d-8d8f153c0ff0",
   "metadata": {},
   "outputs": [],
   "source": [
    "print(df.sort(\"delta_logp\").head(10))"
   ]
  },
  {
   "cell_type": "markdown",
   "id": "1ab38935-395b-49a0-8e9b-166cc5f26888",
   "metadata": {},
   "source": [
    "# Overlay ClinVar variants in this window"
   ]
  },
  {
   "cell_type": "markdown",
   "id": "8fd9ce26-c4b2-4f4d-9e1c-cec6e2c4ed89",
   "metadata": {},
   "source": [
    "ClinVar provides TSV summaries and VCFs. For a simple overlay, we can pull variant_summary.txt.gz and filter to LDLR + our coordinate window"
   ]
  },
  {
   "cell_type": "code",
   "execution_count": null,
   "id": "a03a2590-9ad7-43e0-8b74-a6dd87eccdaf",
   "metadata": {},
   "outputs": [],
   "source": [
    "!wget https://ftp.ncbi.nlm.nih.gov/pub/clinvar/tab_delimited/variant_summary.txt.gz"
   ]
  },
  {
   "cell_type": "code",
   "execution_count": null,
   "id": "1ef39139-c63b-4bc0-922b-d32cdd8b1cd3",
   "metadata": {},
   "outputs": [],
   "source": [
    "!gunzip variant_summary.txt.gz"
   ]
  },
  {
   "cell_type": "code",
   "execution_count": null,
   "id": "0f1a8a18-4497-40fa-8dd8-3fcd3b2c012c",
   "metadata": {},
   "outputs": [],
   "source": [
    "cv = pl.read_csv('variant_summary.txt', separator='\\t', infer_schema_length=100_000, null_values=['na'])"
   ]
  },
  {
   "cell_type": "code",
   "execution_count": null,
   "id": "30962fa1-632b-4c08-b2ff-90d891d85c81",
   "metadata": {},
   "outputs": [],
   "source": [
    "# 1) Narrow ClinVar to your window + GRCh38 + LDLR, and expose VCF fields\n",
    "cv_prom = (\n",
    "    cv.filter(\n",
    "        (pl.col(\"GeneSymbol\") == \"LDLR\") &\n",
    "        (pl.col(\"Assembly\") == \"GRCh38\") &\n",
    "        (pl.col(\"Chromosome\").cast(str) == \"19\") &\n",
    "        (pl.col(\"Start\") >= PROMOTER_START) &\n",
    "        (pl.col(\"Start\") <= PROMOTER_END)\n",
    "    )\n",
    "    .with_columns([\n",
    "        pl.col(\"Type\").str.to_lowercase().alias(\"type_lc\"),\n",
    "        pl.col(\"PositionVCF\").cast(pl.Int64).alias(\"pos_vcf\"),\n",
    "        pl.col(\"ReferenceAlleleVCF\").alias(\"ref_vcf\"),\n",
    "        pl.col(\"AlternateAlleleVCF\").alias(\"alt_vcf\"),\n",
    "        pl.col(\"ChromosomeAccession\").alias(\"chrom_acc\"),\n",
    "    ])\n",
    ")"
   ]
  },
  {
   "cell_type": "code",
   "execution_count": null,
   "id": "f8f6060b-022d-4777-ad5d-6c29cd6e6c75",
   "metadata": {},
   "outputs": [],
   "source": [
    "# 2) Only SNVs for base-by-base overlay (indels use left-justified pos; different handling)\n",
    "cv_snvs = cv_prom.filter(pl.col(\"type_lc\") == \"single nucleotide variant\")"
   ]
  },
  {
   "cell_type": "code",
   "execution_count": null,
   "id": "afb8809c-929e-4d64-b2cd-ebce25b46000",
   "metadata": {},
   "outputs": [],
   "source": [
    "# 3) Join Evo2 ΔlogP (df has columns: genomic_pos, ref, alt) to ClinVar using VCF fields\n",
    "#    For SNVs, HGVS vs VCF positions coincide, so this is safe.\n",
    "df_join = (\n",
    "    df.join(\n",
    "        cv_snvs.select([\n",
    "            \"pos_vcf\",\"ref_vcf\",\"alt_vcf\",\"ClinicalSignificance\",\"ReviewStatus\",\n",
    "            \"VariationID\",\"Name\",\"Type\",\"RS# (dbSNP)\"\n",
    "        ]),\n",
    "        left_on=[\"genomic_pos\",\"ref\",\"alt\"],\n",
    "        right_on=[\"pos_vcf\",\"ref_vcf\",\"alt_vcf\"],\n",
    "        how=\"left\"\n",
    "    )\n",
    ")"
   ]
  },
  {
   "cell_type": "code",
   "execution_count": null,
   "id": "4fddc04a-aa0f-405d-9c3e-99ddd8899151",
   "metadata": {},
   "outputs": [],
   "source": [
    "df_join.filter(pl.col(\"ClinicalSignificance\").is_not_null()).sort(\"genomic_pos\")"
   ]
  },
  {
   "cell_type": "markdown",
   "id": "23081e3e-6b4e-4560-9c61-258ba6e3c4c1",
   "metadata": {},
   "source": [
    "# Analysis & visualization"
   ]
  },
  {
   "cell_type": "code",
   "execution_count": null,
   "id": "d01c446a-fc79-4c24-9bb0-5da5fe988a16",
   "metadata": {},
   "outputs": [],
   "source": [
    "# Worst-case ΔlogP at each position (most “disruptive” ALT)\n",
    "per_pos_min = (\n",
    "    df.group_by(\"pos0\")\n",
    "      .agg(pl.col(\"delta_logp\").min().alias(\"min_delta_logp\"))\n",
    "      .sort(\"pos0\")\n",
    ")\n",
    "x = per_pos_min[\"pos0\"].to_numpy() - RANGE\n",
    "y = per_pos_min[\"min_delta_logp\"].to_numpy()"
   ]
  },
  {
   "cell_type": "code",
   "execution_count": null,
   "id": "0aa0bc79-9b1a-49b6-be05-b788836b5554",
   "metadata": {},
   "outputs": [],
   "source": [
    "plt.figure(figsize=(10,3))\n",
    "plt.axvline(0, linestyle=\"--\")  # TSS\n",
    "plt.plot(x, y)\n",
    "plt.xlabel(\"Position relative to TSS (bp)\")\n",
    "plt.ylabel(\"min ΔlogP across SNVs\")\n",
    "plt.title(\"Evo2 zero-shot prior: intolerance to SNVs in LDLR promoter\")\n",
    "plt.tight_layout()\n",
    "plt.show()"
   ]
  }
 ],
 "metadata": {
  "kernelspec": {
   "display_name": "Python [.conda-default]",
   "language": "python",
   "name": "conda-env-.conda-default-py"
  },
  "language_info": {
   "codemirror_mode": {
    "name": "ipython",
    "version": 3
   },
   "file_extension": ".py",
   "mimetype": "text/x-python",
   "name": "python",
   "nbconvert_exporter": "python",
   "pygments_lexer": "ipython3",
   "version": "3.12.11"
  }
 },
 "nbformat": 4,
 "nbformat_minor": 5
}
