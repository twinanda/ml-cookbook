{
 "cells": [
  {
   "cell_type": "markdown",
   "id": "2af22994-5db8-415a-b227-81118c35a79e",
   "metadata": {},
   "source": [
    "# Imports"
   ]
  },
  {
   "cell_type": "code",
   "execution_count": 30,
   "id": "0799eadd-9ae5-44b0-87be-66bd4c3235cf",
   "metadata": {
    "scrolled": true
   },
   "outputs": [
    {
     "name": "stdout",
     "output_type": "stream",
     "text": [
      "Collecting requests\n",
      "  Downloading requests-2.32.5-py3-none-any.whl.metadata (4.9 kB)\n",
      "Requirement already satisfied: numpy in /home/jovyan/.conda/envs/default/lib/python3.12/site-packages (1.26.4)\n",
      "Requirement already satisfied: polars in /home/jovyan/.conda/envs/default/lib/python3.12/site-packages (1.34.0)\n",
      "Requirement already satisfied: scipy in /home/jovyan/.conda/envs/default/lib/python3.12/site-packages (1.16.2)\n",
      "Requirement already satisfied: matplotlib in /home/jovyan/.conda/envs/default/lib/python3.12/site-packages (3.10.7)\n",
      "Collecting charset_normalizer<4,>=2 (from requests)\n",
      "  Downloading charset_normalizer-3.4.3-cp312-cp312-manylinux2014_x86_64.manylinux_2_17_x86_64.manylinux_2_28_x86_64.whl.metadata (36 kB)\n",
      "Requirement already satisfied: idna<4,>=2.5 in /home/jovyan/.conda/envs/default/lib/python3.12/site-packages (from requests) (3.10)\n",
      "Collecting urllib3<3,>=1.21.1 (from requests)\n",
      "  Downloading urllib3-2.5.0-py3-none-any.whl.metadata (6.5 kB)\n",
      "Requirement already satisfied: certifi>=2017.4.17 in /home/jovyan/.conda/envs/default/lib/python3.12/site-packages (from requests) (2025.10.5)\n",
      "Requirement already satisfied: polars-runtime-32==1.34.0 in /home/jovyan/.conda/envs/default/lib/python3.12/site-packages (from polars) (1.34.0)\n",
      "Requirement already satisfied: contourpy>=1.0.1 in /home/jovyan/.conda/envs/default/lib/python3.12/site-packages (from matplotlib) (1.3.3)\n",
      "Requirement already satisfied: cycler>=0.10 in /home/jovyan/.conda/envs/default/lib/python3.12/site-packages (from matplotlib) (0.12.1)\n",
      "Requirement already satisfied: fonttools>=4.22.0 in /home/jovyan/.conda/envs/default/lib/python3.12/site-packages (from matplotlib) (4.60.1)\n",
      "Requirement already satisfied: kiwisolver>=1.3.1 in /home/jovyan/.conda/envs/default/lib/python3.12/site-packages (from matplotlib) (1.4.9)\n",
      "Requirement already satisfied: packaging>=20.0 in /home/jovyan/.conda/envs/default/lib/python3.12/site-packages (from matplotlib) (25.0)\n",
      "Requirement already satisfied: pillow>=8 in /home/jovyan/.conda/envs/default/lib/python3.12/site-packages (from matplotlib) (11.3.0)\n",
      "Requirement already satisfied: pyparsing>=3 in /home/jovyan/.conda/envs/default/lib/python3.12/site-packages (from matplotlib) (3.2.5)\n",
      "Requirement already satisfied: python-dateutil>=2.7 in /home/jovyan/.conda/envs/default/lib/python3.12/site-packages (from matplotlib) (2.9.0.post0)\n",
      "Requirement already satisfied: six>=1.5 in /home/jovyan/.conda/envs/default/lib/python3.12/site-packages (from python-dateutil>=2.7->matplotlib) (1.17.0)\n",
      "Downloading requests-2.32.5-py3-none-any.whl (64 kB)\n",
      "Downloading charset_normalizer-3.4.3-cp312-cp312-manylinux2014_x86_64.manylinux_2_17_x86_64.manylinux_2_28_x86_64.whl (151 kB)\n",
      "Downloading urllib3-2.5.0-py3-none-any.whl (129 kB)\n",
      "Installing collected packages: urllib3, charset_normalizer, requests\n",
      "\u001b[2K   \u001b[90m━━━━━━━━━━━━━━━━━━━━━━━━━━━━━━━━━━━━━━━━\u001b[0m \u001b[32m3/3\u001b[0m [requests]\n",
      "\u001b[1A\u001b[2KSuccessfully installed charset_normalizer-3.4.3 requests-2.32.5 urllib3-2.5.0\n",
      "Note: you may need to restart the kernel to use updated packages.\n"
     ]
    }
   ],
   "source": [
    "%pip install requests httpx numpy polars scipy matplotlib"
   ]
  },
  {
   "cell_type": "code",
   "execution_count": 34,
   "id": "e85db436-03cf-4e94-9a84-5c2999cb2021",
   "metadata": {},
   "outputs": [],
   "source": [
    "import base64\n",
    "import io\n",
    "import os\n",
    "import gzip\n",
    "import json\n",
    "import requests\n",
    "from requests.auth import HTTPBasicAuth\n",
    "\n",
    "import numpy as np\n",
    "import polars as pl\n",
    "from scipy.special import log_softmax\n",
    "import matplotlib.pyplot as plt"
   ]
  },
  {
   "cell_type": "markdown",
   "id": "76d85365-8ee0-40df-aa9c-26bc7775f356",
   "metadata": {},
   "source": [
    "# Fetch the reference promoter from NCBI"
   ]
  },
  {
   "cell_type": "markdown",
   "id": "562b22dc-5ef0-4710-b85f-e13e70a19fe7",
   "metadata": {},
   "source": [
    "We’ll compute a promoter window around the LDLR TSS. Using the ClinGen gene page (GRCh38 LDLR coordinates), we’ll set TSS = 11089463 (forward strand) and take +- 5kbp range. Then we’ll fetch from NC_000019.10 (GRCh38 chr19) using E-utilities efetch"
   ]
  },
  {
   "cell_type": "code",
   "execution_count": 11,
   "id": "e96005f1-88be-4452-b917-3a984084e64a",
   "metadata": {},
   "outputs": [],
   "source": [
    "NCBI_NUCCORE_ACC = \"NC_000019.10\"      # GRCh38 chr19\n",
    "LDLR_TSS = 11089463                    # https://search.clinicalgenome.org/kb/genes/HGNC:6547/by-disease\n",
    "RANGE = 5_000\n",
    "PROMOTER_START = LDLR_TSS - RANGE\n",
    "PROMOTER_END   = LDLR_TSS + RANGE - 1\n",
    "STRAND = 1                             # forward"
   ]
  },
  {
   "cell_type": "code",
   "execution_count": 12,
   "id": "7b8a82a0-66f5-4584-b643-62a0abf3cdbb",
   "metadata": {},
   "outputs": [],
   "source": [
    "def fetch_fasta_region_ncbi(acc: str, start: int, end: int, strand: int=1) -> str:\n",
    "    \"\"\"Fetch FASTA for a genomic slice via NCBI efetch\"\"\"\n",
    "    \n",
    "    url = \"https://eutils.ncbi.nlm.nih.gov/entrez/eutils/efetch.fcgi\"\n",
    "    params = dict(db=\"nuccore\", id=acc, rettype=\"fasta\", retmode=\"text\",\n",
    "                  seq_start=start, seq_stop=end, strand=strand)\n",
    "    with httpx.Client(timeout=60) as cx:\n",
    "        r = cx.get(url, params=params)\n",
    "        r.raise_for_status()\n",
    "    return r.text\n",
    "\n",
    "def parse_fasta_sequence(fasta_text: str) -> str:\n",
    "    lines = [ln.strip() for ln in fasta_text.splitlines() if ln.strip()]\n",
    "    seq_lines = [ln for ln in lines if not ln.startswith(\">\")]\n",
    "    return \"\".join(seq_lines).upper()"
   ]
  },
  {
   "cell_type": "code",
   "execution_count": 13,
   "id": "d9939a4d-8b2c-4e41-bc19-761211317e30",
   "metadata": {},
   "outputs": [
    {
     "name": "stdout",
     "output_type": "stream",
     "text": [
      "Fetched promoter window: NC_000019.10:11084463-11094462 len=10000 bp\n"
     ]
    }
   ],
   "source": [
    "fasta_txt = fetch_fasta_region_ncbi(NCBI_NUCCORE_ACC, PROMOTER_START, PROMOTER_END, STRAND)\n",
    "ref_seq = parse_fasta_sequence(fasta_txt)\n",
    "print(f\"Fetched promoter window: {NCBI_NUCCORE_ACC}:{PROMOTER_START}-{PROMOTER_END} len={len(ref_seq)} bp\")"
   ]
  },
  {
   "cell_type": "markdown",
   "id": "1e7561aa-28e5-4ea7-8bcd-1ad38631e804",
   "metadata": {},
   "source": [
    "# Call Evo 2 NIM /forward and decode logits"
   ]
  },
  {
   "cell_type": "markdown",
   "id": "560d5697-d3dd-459f-98ba-b7ea4a444b73",
   "metadata": {},
   "source": [
    "The Evo 2 NIM endpoints specify `/biology/arc/evo2/forward` with `output_layers=[\"output_layer\"]`. The response returns a Base64-encoded NPZ; the output_layer array has shape `[seq_len, batch, 512]`. Map logits indices to bases using the ASCII mapping given in the docs: `A=65, C=67, T=84, G=71`."
   ]
  },
  {
   "cell_type": "code",
   "execution_count": 83,
   "id": "c013bdef-a01d-486a-99fc-f369b1743cad",
   "metadata": {},
   "outputs": [],
   "source": [
    "EVO2_URL = os.getenv(\"EVO2_URL\", \"http://localhost:8000\")\n",
    "FORWARD_EP=f\"{EVO2_URL}/biology/arc/evo2/forward\"\n",
    "\n",
    "# ASCII indices for DNA in Evo 2 tokenizer\n",
    "IDX = {\"A\": 65, \"C\": 67, \"T\": 84, \"G\": 71}\n",
    "DNA = set(\"ACTG\")"
   ]
  },
  {
   "cell_type": "code",
   "execution_count": 84,
   "id": "0571b89d-e642-45ba-8f7b-7f3e1c1059d3",
   "metadata": {},
   "outputs": [
    {
     "data": {
      "text/plain": [
       "'https://public-app-e0t-fy6vacm37rp83sf-ffthvb2tk218yyk-inferenceapp.gw.msp.beta.nebius.cloud/biology/arc/evo2/forward'"
      ]
     },
     "execution_count": 84,
     "metadata": {},
     "output_type": "execute_result"
    }
   ],
   "source": [
    "FORWARD_EP"
   ]
  },
  {
   "cell_type": "code",
   "execution_count": 110,
   "id": "0f199144-bc7f-483c-a99e-89e4fe4eba63",
   "metadata": {},
   "outputs": [],
   "source": [
    "def evo2_forward_logits(sequence: str) -> np.ndarray:\n",
    "    \"\"\"\n",
    "    Call Evo2 NIM forward endpoint and return [L, 4] log-probabilities for A,C,T,G at each position,\n",
    "    computed from output_layer logits via log_softmax.\n",
    "    \"\"\"\n",
    "    assert set(sequence).issubset(DNA), \"Sequence must be A/C/T/G only\"\n",
    "\n",
    "    payload = {\"sequence\": sequence, 'output_layers': ['output_layer']}\n",
    "    \n",
    "    user = os.getenv(\"EVO2_NIM_USER\", \"user\")\n",
    "    password = os.getenv(\"EVO2_NIM_PASS\", \"pass\")\n",
    "\n",
    "    auth = HTTPBasicAuth(user, password)\n",
    "\n",
    "    r = requests.post(FORWARD_EP, json=payload, auth=auth, timeout=120)\n",
    "    r.raise_for_status()\n",
    "    data = r.json()  # { \"data\": \"<base64 npz>\", \"elapsed_ms\": ... }\n",
    "\n",
    "    arr = np.load(io.BytesIO(base64.b64decode(data[\"data\"])))\n",
    "    logits = arr[\"output_layer.output\"]  # [L, B, 512]\n",
    "\n",
    "    if logits.ndim != 3 or logits.shape[1] != 1:\n",
    "        raise ValueError(f\"Unexpected logits shape {logits.shape}\")\n",
    "\n",
    "    logits = logits[:, 0, :]  # [L, 512]\n",
    "\n",
    "    logp512 = log_softmax(logits, axis=1)\n",
    "    logp4 = np.vstack([\n",
    "        logp512[:, IDX[\"A\"]],\n",
    "        logp512[:, IDX[\"C\"]],\n",
    "        logp512[:, IDX[\"T\"]],\n",
    "        logp512[:, IDX[\"G\"]],\n",
    "    ]).T\n",
    "\n",
    "    return logp4\n"
   ]
  },
  {
   "cell_type": "code",
   "execution_count": 87,
   "id": "a66fb8d7-8382-4f1e-b95c-b9a829ca86fd",
   "metadata": {},
   "outputs": [],
   "source": [
    "logp4 = evo2_forward_logits(ref_seq)"
   ]
  },
  {
   "cell_type": "markdown",
   "id": "dc501686-7820-4d3f-9333-b3abf17f2f02",
   "metadata": {},
   "source": [
    "# In-silico saturation mutagenesis (ΔlogP per SNV)"
   ]
  },
  {
   "cell_type": "markdown",
   "id": "ea071e96-4a80-4297-b17e-8e226efeef37",
   "metadata": {},
   "source": [
    "For each position, compute ΔlogP = logP(ALT) − logP(REF). Negative values suggest evo-prior intolerance at that position/base swap."
   ]
  },
  {
   "cell_type": "code",
   "execution_count": 90,
   "id": "ef51c501-07e2-4e41-9680-dc2ab9d1fb57",
   "metadata": {},
   "outputs": [],
   "source": [
    "BASES = (\"A\", \"C\", \"T\", \"G\")\n",
    "bidx = {b: i for i, b in enumerate(BASES)}\n",
    "ref_arr = list(ref_seq)"
   ]
  },
  {
   "cell_type": "code",
   "execution_count": 93,
   "id": "1486bde7-f34a-4c83-b626-c07fac3dc0fe",
   "metadata": {},
   "outputs": [],
   "source": [
    "# ΔlogP table: for each pos, each possible ALT != REF\n",
    "records: list[tuple[int, int, str, str, float]] = []\n",
    "for i, refb in enumerate(ref_arr):\n",
    "    for altb in BASES:\n",
    "        if altb == refb:\n",
    "            continue\n",
    "        dlogp = float(logp4[i, bidx[altb]] - logp4[i, bidx[refb]])\n",
    "        records.append((i, int(PROMOTER_START + i), refb, altb, dlogp))\n",
    "\n",
    "df = pl.DataFrame(\n",
    "    records,\n",
    "    schema={\n",
    "        \"pos0\": pl.Int64,\n",
    "        \"genomic_pos\": pl.Int64,\n",
    "        \"ref\": pl.Utf8,\n",
    "        \"alt\": pl.Utf8,\n",
    "        \"delta_logp\": pl.Float64,\n",
    "    },\n",
    "    orient=\"row\",\n",
    ").with_columns(\n",
    "    (pl.col(\"pos0\") - RANGE).alias(\"pos_rel_TSS\"),\n",
    "    pl.lit(\"LDLR\").alias(\"gene\"),\n",
    "    pl.lit(\"GRCh38\").alias(\"assembly\"),\n",
    "    pl.lit(\"NC_000019.10\").alias(\"chrom\"),\n",
    ")"
   ]
  },
  {
   "cell_type": "code",
   "execution_count": 94,
   "id": "e75ecaa2-3932-4df9-be00-c4315ad4e7b5",
   "metadata": {},
   "outputs": [
    {
     "data": {
      "text/html": [
       "<div><style>\n",
       ".dataframe > thead > tr,\n",
       ".dataframe > tbody > tr {\n",
       "  text-align: right;\n",
       "  white-space: pre-wrap;\n",
       "}\n",
       "</style>\n",
       "<small>shape: (30_000, 9)</small><table border=\"1\" class=\"dataframe\"><thead><tr><th>pos0</th><th>genomic_pos</th><th>ref</th><th>alt</th><th>delta_logp</th><th>pos_rel_TSS</th><th>gene</th><th>assembly</th><th>chrom</th></tr><tr><td>i64</td><td>i64</td><td>str</td><td>str</td><td>f64</td><td>i64</td><td>str</td><td>str</td><td>str</td></tr></thead><tbody><tr><td>0</td><td>11084463</td><td>&quot;C&quot;</td><td>&quot;A&quot;</td><td>0.177734</td><td>-5000</td><td>&quot;LDLR&quot;</td><td>&quot;GRCh38&quot;</td><td>&quot;NC_000019.10&quot;</td></tr><tr><td>0</td><td>11084463</td><td>&quot;C&quot;</td><td>&quot;T&quot;</td><td>0.074219</td><td>-5000</td><td>&quot;LDLR&quot;</td><td>&quot;GRCh38&quot;</td><td>&quot;NC_000019.10&quot;</td></tr><tr><td>0</td><td>11084463</td><td>&quot;C&quot;</td><td>&quot;G&quot;</td><td>-0.107422</td><td>-5000</td><td>&quot;LDLR&quot;</td><td>&quot;GRCh38&quot;</td><td>&quot;NC_000019.10&quot;</td></tr><tr><td>1</td><td>11084464</td><td>&quot;G&quot;</td><td>&quot;A&quot;</td><td>0.03125</td><td>-4999</td><td>&quot;LDLR&quot;</td><td>&quot;GRCh38&quot;</td><td>&quot;NC_000019.10&quot;</td></tr><tr><td>1</td><td>11084464</td><td>&quot;G&quot;</td><td>&quot;C&quot;</td><td>0.076172</td><td>-4999</td><td>&quot;LDLR&quot;</td><td>&quot;GRCh38&quot;</td><td>&quot;NC_000019.10&quot;</td></tr><tr><td>&hellip;</td><td>&hellip;</td><td>&hellip;</td><td>&hellip;</td><td>&hellip;</td><td>&hellip;</td><td>&hellip;</td><td>&hellip;</td><td>&hellip;</td></tr><tr><td>9998</td><td>11094461</td><td>&quot;A&quot;</td><td>&quot;T&quot;</td><td>-0.882812</td><td>4998</td><td>&quot;LDLR&quot;</td><td>&quot;GRCh38&quot;</td><td>&quot;NC_000019.10&quot;</td></tr><tr><td>9998</td><td>11094461</td><td>&quot;A&quot;</td><td>&quot;G&quot;</td><td>-2.574219</td><td>4998</td><td>&quot;LDLR&quot;</td><td>&quot;GRCh38&quot;</td><td>&quot;NC_000019.10&quot;</td></tr><tr><td>9999</td><td>11094462</td><td>&quot;A&quot;</td><td>&quot;C&quot;</td><td>-2.757812</td><td>4999</td><td>&quot;LDLR&quot;</td><td>&quot;GRCh38&quot;</td><td>&quot;NC_000019.10&quot;</td></tr><tr><td>9999</td><td>11094462</td><td>&quot;A&quot;</td><td>&quot;T&quot;</td><td>-2.240234</td><td>4999</td><td>&quot;LDLR&quot;</td><td>&quot;GRCh38&quot;</td><td>&quot;NC_000019.10&quot;</td></tr><tr><td>9999</td><td>11094462</td><td>&quot;A&quot;</td><td>&quot;G&quot;</td><td>-2.726562</td><td>4999</td><td>&quot;LDLR&quot;</td><td>&quot;GRCh38&quot;</td><td>&quot;NC_000019.10&quot;</td></tr></tbody></table></div>"
      ],
      "text/plain": [
       "shape: (30_000, 9)\n",
       "┌──────┬─────────────┬─────┬─────┬───┬─────────────┬──────┬──────────┬──────────────┐\n",
       "│ pos0 ┆ genomic_pos ┆ ref ┆ alt ┆ … ┆ pos_rel_TSS ┆ gene ┆ assembly ┆ chrom        │\n",
       "│ ---  ┆ ---         ┆ --- ┆ --- ┆   ┆ ---         ┆ ---  ┆ ---      ┆ ---          │\n",
       "│ i64  ┆ i64         ┆ str ┆ str ┆   ┆ i64         ┆ str  ┆ str      ┆ str          │\n",
       "╞══════╪═════════════╪═════╪═════╪═══╪═════════════╪══════╪══════════╪══════════════╡\n",
       "│ 0    ┆ 11084463    ┆ C   ┆ A   ┆ … ┆ -5000       ┆ LDLR ┆ GRCh38   ┆ NC_000019.10 │\n",
       "│ 0    ┆ 11084463    ┆ C   ┆ T   ┆ … ┆ -5000       ┆ LDLR ┆ GRCh38   ┆ NC_000019.10 │\n",
       "│ 0    ┆ 11084463    ┆ C   ┆ G   ┆ … ┆ -5000       ┆ LDLR ┆ GRCh38   ┆ NC_000019.10 │\n",
       "│ 1    ┆ 11084464    ┆ G   ┆ A   ┆ … ┆ -4999       ┆ LDLR ┆ GRCh38   ┆ NC_000019.10 │\n",
       "│ 1    ┆ 11084464    ┆ G   ┆ C   ┆ … ┆ -4999       ┆ LDLR ┆ GRCh38   ┆ NC_000019.10 │\n",
       "│ …    ┆ …           ┆ …   ┆ …   ┆ … ┆ …           ┆ …    ┆ …        ┆ …            │\n",
       "│ 9998 ┆ 11094461    ┆ A   ┆ T   ┆ … ┆ 4998        ┆ LDLR ┆ GRCh38   ┆ NC_000019.10 │\n",
       "│ 9998 ┆ 11094461    ┆ A   ┆ G   ┆ … ┆ 4998        ┆ LDLR ┆ GRCh38   ┆ NC_000019.10 │\n",
       "│ 9999 ┆ 11094462    ┆ A   ┆ C   ┆ … ┆ 4999        ┆ LDLR ┆ GRCh38   ┆ NC_000019.10 │\n",
       "│ 9999 ┆ 11094462    ┆ A   ┆ T   ┆ … ┆ 4999        ┆ LDLR ┆ GRCh38   ┆ NC_000019.10 │\n",
       "│ 9999 ┆ 11094462    ┆ A   ┆ G   ┆ … ┆ 4999        ┆ LDLR ┆ GRCh38   ┆ NC_000019.10 │\n",
       "└──────┴─────────────┴─────┴─────┴───┴─────────────┴──────┴──────────┴──────────────┘"
      ]
     },
     "execution_count": 94,
     "metadata": {},
     "output_type": "execute_result"
    }
   ],
   "source": [
    "df"
   ]
  },
  {
   "cell_type": "code",
   "execution_count": 96,
   "id": "247c1832-603f-4c5b-9b2d-8d8f153c0ff0",
   "metadata": {},
   "outputs": [
    {
     "name": "stdout",
     "output_type": "stream",
     "text": [
      "shape: (10, 9)\n",
      "┌──────┬─────────────┬─────┬─────┬───┬─────────────┬──────┬──────────┬──────────────┐\n",
      "│ pos0 ┆ genomic_pos ┆ ref ┆ alt ┆ … ┆ pos_rel_TSS ┆ gene ┆ assembly ┆ chrom        │\n",
      "│ ---  ┆ ---         ┆ --- ┆ --- ┆   ┆ ---         ┆ ---  ┆ ---      ┆ ---          │\n",
      "│ i64  ┆ i64         ┆ str ┆ str ┆   ┆ i64         ┆ str  ┆ str      ┆ str          │\n",
      "╞══════╪═════════════╪═════╪═════╪═══╪═════════════╪══════╪══════════╪══════════════╡\n",
      "│ 5125 ┆ 11089588    ┆ T   ┆ A   ┆ … ┆ 125         ┆ LDLR ┆ GRCh38   ┆ NC_000019.10 │\n",
      "│ 5114 ┆ 11089577    ┆ G   ┆ A   ┆ … ┆ 114         ┆ LDLR ┆ GRCh38   ┆ NC_000019.10 │\n",
      "│ 4973 ┆ 11089436    ┆ A   ┆ T   ┆ … ┆ -27         ┆ LDLR ┆ GRCh38   ┆ NC_000019.10 │\n",
      "│ 5152 ┆ 11089615    ┆ G   ┆ A   ┆ … ┆ 152         ┆ LDLR ┆ GRCh38   ┆ NC_000019.10 │\n",
      "│ 4949 ┆ 11089412    ┆ C   ┆ A   ┆ … ┆ -51         ┆ LDLR ┆ GRCh38   ┆ NC_000019.10 │\n",
      "│ 4950 ┆ 11089413    ┆ C   ┆ A   ┆ … ┆ -50         ┆ LDLR ┆ GRCh38   ┆ NC_000019.10 │\n",
      "│ 4949 ┆ 11089412    ┆ C   ┆ G   ┆ … ┆ -51         ┆ LDLR ┆ GRCh38   ┆ NC_000019.10 │\n",
      "│ 5088 ┆ 11089551    ┆ G   ┆ T   ┆ … ┆ 88          ┆ LDLR ┆ GRCh38   ┆ NC_000019.10 │\n",
      "│ 4898 ┆ 11089361    ┆ C   ┆ A   ┆ … ┆ -102        ┆ LDLR ┆ GRCh38   ┆ NC_000019.10 │\n",
      "│ 4911 ┆ 11089374    ┆ G   ┆ T   ┆ … ┆ -89         ┆ LDLR ┆ GRCh38   ┆ NC_000019.10 │\n",
      "└──────┴─────────────┴─────┴─────┴───┴─────────────┴──────┴──────────┴──────────────┘\n"
     ]
    }
   ],
   "source": [
    "print(df.sort(\"delta_logp\").head(10))"
   ]
  },
  {
   "cell_type": "markdown",
   "id": "1ab38935-395b-49a0-8e9b-166cc5f26888",
   "metadata": {},
   "source": [
    "# Overlay ClinVar variants in this window"
   ]
  },
  {
   "cell_type": "markdown",
   "id": "8fd9ce26-c4b2-4f4d-9e1c-cec6e2c4ed89",
   "metadata": {},
   "source": [
    "ClinVar provides TSV summaries and VCFs. For a simple overlay, we can pull variant_summary.txt.gz and filter to LDLR + our coordinate window"
   ]
  },
  {
   "cell_type": "code",
   "execution_count": 98,
   "id": "a03a2590-9ad7-43e0-8b74-a6dd87eccdaf",
   "metadata": {},
   "outputs": [
    {
     "name": "stdout",
     "output_type": "stream",
     "text": [
      "--2025-10-10 08:58:40--  https://ftp.ncbi.nlm.nih.gov/pub/clinvar/tab_delimited/variant_summary.txt.gz\n",
      "Resolving ftp.ncbi.nlm.nih.gov (ftp.ncbi.nlm.nih.gov)... 130.14.250.7, 130.14.250.13, 130.14.250.31, ...\n",
      "Connecting to ftp.ncbi.nlm.nih.gov (ftp.ncbi.nlm.nih.gov)|130.14.250.7|:443... connected.\n",
      "HTTP request sent, awaiting response... 200 OK\n",
      "Length: 395037542 (377M) [application/x-gzip]\n",
      "Saving to: ‘variant_summary.txt.gz’\n",
      "\n",
      "variant_summary.txt 100%[===================>] 376.74M  28.4MB/s    in 14s     \n",
      "\n",
      "2025-10-10 08:58:55 (26.7 MB/s) - ‘variant_summary.txt.gz’ saved [395037542/395037542]\n",
      "\n"
     ]
    }
   ],
   "source": [
    "!wget https://ftp.ncbi.nlm.nih.gov/pub/clinvar/tab_delimited/variant_summary.txt.gz"
   ]
  },
  {
   "cell_type": "code",
   "execution_count": 100,
   "id": "1ef39139-c63b-4bc0-922b-d32cdd8b1cd3",
   "metadata": {},
   "outputs": [],
   "source": [
    "!gunzip variant_summary.txt.gz"
   ]
  },
  {
   "cell_type": "code",
   "execution_count": 101,
   "id": "0f1a8a18-4497-40fa-8dd8-3fcd3b2c012c",
   "metadata": {},
   "outputs": [],
   "source": [
    "cv = pl.read_csv('variant_summary.txt', separator='\\t', infer_schema_length=100_000, null_values=['na'])"
   ]
  },
  {
   "cell_type": "code",
   "execution_count": 102,
   "id": "30962fa1-632b-4c08-b2ff-90d891d85c81",
   "metadata": {},
   "outputs": [],
   "source": [
    "# 1) Narrow ClinVar to your window + GRCh38 + LDLR, and expose VCF fields\n",
    "cv_prom = (\n",
    "    cv.filter(\n",
    "        (pl.col(\"GeneSymbol\") == \"LDLR\") &\n",
    "        (pl.col(\"Assembly\") == \"GRCh38\") &\n",
    "        (pl.col(\"Chromosome\").cast(str) == \"19\") &\n",
    "        (pl.col(\"Start\") >= PROMOTER_START) &\n",
    "        (pl.col(\"Start\") <= PROMOTER_END)\n",
    "    )\n",
    "    .with_columns([\n",
    "        pl.col(\"Type\").str.to_lowercase().alias(\"type_lc\"),\n",
    "        pl.col(\"PositionVCF\").cast(pl.Int64).alias(\"pos_vcf\"),\n",
    "        pl.col(\"ReferenceAlleleVCF\").alias(\"ref_vcf\"),\n",
    "        pl.col(\"AlternateAlleleVCF\").alias(\"alt_vcf\"),\n",
    "        pl.col(\"ChromosomeAccession\").alias(\"chrom_acc\"),\n",
    "    ])\n",
    ")"
   ]
  },
  {
   "cell_type": "code",
   "execution_count": 103,
   "id": "f8f6060b-022d-4777-ad5d-6c29cd6e6c75",
   "metadata": {},
   "outputs": [],
   "source": [
    "# 2) Only SNVs for base-by-base overlay (indels use left-justified pos; different handling)\n",
    "cv_snvs = cv_prom.filter(pl.col(\"type_lc\") == \"single nucleotide variant\")"
   ]
  },
  {
   "cell_type": "code",
   "execution_count": 104,
   "id": "afb8809c-929e-4d64-b2cd-ebce25b46000",
   "metadata": {},
   "outputs": [],
   "source": [
    "# 3) Join Evo2 ΔlogP (df has columns: genomic_pos, ref, alt) to ClinVar using VCF fields\n",
    "#    For SNVs, HGVS vs VCF positions coincide, so this is safe.\n",
    "df_join = (\n",
    "    df.join(\n",
    "        cv_snvs.select([\n",
    "            \"pos_vcf\",\"ref_vcf\",\"alt_vcf\",\"ClinicalSignificance\",\"ReviewStatus\",\n",
    "            \"VariationID\",\"Name\",\"Type\",\"RS# (dbSNP)\"\n",
    "        ]),\n",
    "        left_on=[\"genomic_pos\",\"ref\",\"alt\"],\n",
    "        right_on=[\"pos_vcf\",\"ref_vcf\",\"alt_vcf\"],\n",
    "        how=\"left\"\n",
    "    )\n",
    ")"
   ]
  },
  {
   "cell_type": "code",
   "execution_count": 105,
   "id": "4fddc04a-aa0f-405d-9c3e-99ddd8899151",
   "metadata": {},
   "outputs": [
    {
     "data": {
      "text/html": [
       "<div><style>\n",
       ".dataframe > thead > tr,\n",
       ".dataframe > tbody > tr {\n",
       "  text-align: right;\n",
       "  white-space: pre-wrap;\n",
       "}\n",
       "</style>\n",
       "<small>shape: (194, 15)</small><table border=\"1\" class=\"dataframe\"><thead><tr><th>pos0</th><th>genomic_pos</th><th>ref</th><th>alt</th><th>delta_logp</th><th>pos_rel_TSS</th><th>gene</th><th>assembly</th><th>chrom</th><th>ClinicalSignificance</th><th>ReviewStatus</th><th>VariationID</th><th>Name</th><th>Type</th><th>RS# (dbSNP)</th></tr><tr><td>i64</td><td>i64</td><td>str</td><td>str</td><td>f64</td><td>i64</td><td>str</td><td>str</td><td>str</td><td>str</td><td>str</td><td>i64</td><td>str</td><td>str</td><td>i64</td></tr></thead><tbody><tr><td>3048</td><td>11087511</td><td>&quot;C&quot;</td><td>&quot;T&quot;</td><td>0.21875</td><td>-1952</td><td>&quot;LDLR&quot;</td><td>&quot;GRCh38&quot;</td><td>&quot;NC_000019.10&quot;</td><td>&quot;Benign&quot;</td><td>&quot;criteria provided, single subm…</td><td>684564</td><td>&quot;NM_000527.4(LDLR):c.-2038C&gt;T&quot;</td><td>&quot;single nucleotide variant&quot;</td><td>17248720</td></tr><tr><td>4800</td><td>11089263</td><td>&quot;C&quot;</td><td>&quot;G&quot;</td><td>-1.248047</td><td>-200</td><td>&quot;LDLR&quot;</td><td>&quot;GRCh38&quot;</td><td>&quot;NC_000019.10&quot;</td><td>&quot;Uncertain significance&quot;</td><td>&quot;reviewed by expert panel&quot;</td><td>430740</td><td>&quot;NM_000527.5(LDLR):c.-286C&gt;G&quot;</td><td>&quot;single nucleotide variant&quot;</td><td>989307060</td></tr><tr><td>4818</td><td>11089281</td><td>&quot;G&quot;</td><td>&quot;T&quot;</td><td>-0.443359</td><td>-182</td><td>&quot;LDLR&quot;</td><td>&quot;GRCh38&quot;</td><td>&quot;NC_000019.10&quot;</td><td>&quot;Benign/Likely benign&quot;</td><td>&quot;criteria provided, multiple su…</td><td>250925</td><td>&quot;NC_000019.10:g.11089281G&gt;T&quot;</td><td>&quot;single nucleotide variant&quot;</td><td>17249134</td></tr><tr><td>4820</td><td>11089283</td><td>&quot;C&quot;</td><td>&quot;T&quot;</td><td>0.1328125</td><td>-180</td><td>&quot;LDLR&quot;</td><td>&quot;GRCh38&quot;</td><td>&quot;NC_000019.10&quot;</td><td>&quot;Uncertain significance&quot;</td><td>&quot;no assertion criteria provided&quot;</td><td>4069787</td><td>&quot;NM_000527.4(LDLR):c.-266C&gt;T&quot;</td><td>&quot;single nucleotide variant&quot;</td><td>-1</td></tr><tr><td>4858</td><td>11089321</td><td>&quot;G&quot;</td><td>&quot;C&quot;</td><td>-0.302734</td><td>-142</td><td>&quot;LDLR&quot;</td><td>&quot;GRCh38&quot;</td><td>&quot;NC_000019.10&quot;</td><td>&quot;Uncertain significance&quot;</td><td>&quot;criteria provided, multiple su…</td><td>431505</td><td>&quot;NC_000019.10:g.11089321G&gt;C&quot;</td><td>&quot;single nucleotide variant&quot;</td><td>376713337</td></tr><tr><td>&hellip;</td><td>&hellip;</td><td>&hellip;</td><td>&hellip;</td><td>&hellip;</td><td>&hellip;</td><td>&hellip;</td><td>&hellip;</td><td>&hellip;</td><td>&hellip;</td><td>&hellip;</td><td>&hellip;</td><td>&hellip;</td><td>&hellip;</td><td>&hellip;</td></tr><tr><td>6150</td><td>11090613</td><td>&quot;G&quot;</td><td>&quot;T&quot;</td><td>-0.954346</td><td>1150</td><td>&quot;LDLR&quot;</td><td>&quot;GRCh38&quot;</td><td>&quot;NC_000019.10&quot;</td><td>&quot;Benign&quot;</td><td>&quot;criteria provided, single subm…</td><td>3894925</td><td>&quot;NM_000527.5(LDLR):c.67+998G&gt;T&quot;</td><td>&quot;single nucleotide variant&quot;</td><td>1004149250</td></tr><tr><td>6157</td><td>11090620</td><td>&quot;C&quot;</td><td>&quot;T&quot;</td><td>-0.412109</td><td>1157</td><td>&quot;LDLR&quot;</td><td>&quot;GRCh38&quot;</td><td>&quot;NC_000019.10&quot;</td><td>&quot;Likely benign&quot;</td><td>&quot;criteria provided, single subm…</td><td>3895429</td><td>&quot;NM_000527.5(LDLR):c.67+1005C&gt;T&quot;</td><td>&quot;single nucleotide variant&quot;</td><td>12974008</td></tr><tr><td>6203</td><td>11090666</td><td>&quot;C&quot;</td><td>&quot;T&quot;</td><td>-0.607422</td><td>1203</td><td>&quot;LDLR&quot;</td><td>&quot;GRCh38&quot;</td><td>&quot;NC_000019.10&quot;</td><td>&quot;Benign&quot;</td><td>&quot;criteria provided, single subm…</td><td>3895058</td><td>&quot;NM_000527.5(LDLR):c.67+1051C&gt;T&quot;</td><td>&quot;single nucleotide variant&quot;</td><td>-1</td></tr><tr><td>6227</td><td>11090690</td><td>&quot;G&quot;</td><td>&quot;A&quot;</td><td>-1.3125</td><td>1227</td><td>&quot;LDLR&quot;</td><td>&quot;GRCh38&quot;</td><td>&quot;NC_000019.10&quot;</td><td>&quot;Likely benign&quot;</td><td>&quot;criteria provided, single subm…</td><td>1119727</td><td>&quot;NM_000527.5(LDLR):c.67+1075G&gt;A&quot;</td><td>&quot;single nucleotide variant&quot;</td><td>764612255</td></tr><tr><td>7167</td><td>11091630</td><td>&quot;G&quot;</td><td>&quot;T&quot;</td><td>-0.207031</td><td>2167</td><td>&quot;LDLR&quot;</td><td>&quot;GRCh38&quot;</td><td>&quot;NC_000019.10&quot;</td><td>&quot;Benign&quot;</td><td>&quot;criteria provided, multiple su…</td><td>250988</td><td>&quot;NM_000527.5(LDLR):c.67+2015G&gt;T&quot;</td><td>&quot;single nucleotide variant&quot;</td><td>6511720</td></tr></tbody></table></div>"
      ],
      "text/plain": [
       "shape: (194, 15)\n",
       "┌──────┬─────────────┬─────┬─────┬───┬─────────────┬────────────────────┬────────────┬─────────────┐\n",
       "│ pos0 ┆ genomic_pos ┆ ref ┆ alt ┆ … ┆ VariationID ┆ Name               ┆ Type       ┆ RS# (dbSNP) │\n",
       "│ ---  ┆ ---         ┆ --- ┆ --- ┆   ┆ ---         ┆ ---                ┆ ---        ┆ ---         │\n",
       "│ i64  ┆ i64         ┆ str ┆ str ┆   ┆ i64         ┆ str                ┆ str        ┆ i64         │\n",
       "╞══════╪═════════════╪═════╪═════╪═══╪═════════════╪════════════════════╪════════════╪═════════════╡\n",
       "│ 3048 ┆ 11087511    ┆ C   ┆ T   ┆ … ┆ 684564      ┆ NM_000527.4(LDLR): ┆ single     ┆ 17248720    │\n",
       "│      ┆             ┆     ┆     ┆   ┆             ┆ c.-2038C>T         ┆ nucleotide ┆             │\n",
       "│      ┆             ┆     ┆     ┆   ┆             ┆                    ┆ variant    ┆             │\n",
       "│ 4800 ┆ 11089263    ┆ C   ┆ G   ┆ … ┆ 430740      ┆ NM_000527.5(LDLR): ┆ single     ┆ 989307060   │\n",
       "│      ┆             ┆     ┆     ┆   ┆             ┆ c.-286C>G          ┆ nucleotide ┆             │\n",
       "│      ┆             ┆     ┆     ┆   ┆             ┆                    ┆ variant    ┆             │\n",
       "│ 4818 ┆ 11089281    ┆ G   ┆ T   ┆ … ┆ 250925      ┆ NC_000019.10:g.110 ┆ single     ┆ 17249134    │\n",
       "│      ┆             ┆     ┆     ┆   ┆             ┆ 89281G>T           ┆ nucleotide ┆             │\n",
       "│      ┆             ┆     ┆     ┆   ┆             ┆                    ┆ variant    ┆             │\n",
       "│ 4820 ┆ 11089283    ┆ C   ┆ T   ┆ … ┆ 4069787     ┆ NM_000527.4(LDLR): ┆ single     ┆ -1          │\n",
       "│      ┆             ┆     ┆     ┆   ┆             ┆ c.-266C>T          ┆ nucleotide ┆             │\n",
       "│      ┆             ┆     ┆     ┆   ┆             ┆                    ┆ variant    ┆             │\n",
       "│ 4858 ┆ 11089321    ┆ G   ┆ C   ┆ … ┆ 431505      ┆ NC_000019.10:g.110 ┆ single     ┆ 376713337   │\n",
       "│      ┆             ┆     ┆     ┆   ┆             ┆ 89321G>C           ┆ nucleotide ┆             │\n",
       "│      ┆             ┆     ┆     ┆   ┆             ┆                    ┆ variant    ┆             │\n",
       "│ …    ┆ …           ┆ …   ┆ …   ┆ … ┆ …           ┆ …                  ┆ …          ┆ …           │\n",
       "│ 6150 ┆ 11090613    ┆ G   ┆ T   ┆ … ┆ 3894925     ┆ NM_000527.5(LDLR): ┆ single     ┆ 1004149250  │\n",
       "│      ┆             ┆     ┆     ┆   ┆             ┆ c.67+998G>T        ┆ nucleotide ┆             │\n",
       "│      ┆             ┆     ┆     ┆   ┆             ┆                    ┆ variant    ┆             │\n",
       "│ 6157 ┆ 11090620    ┆ C   ┆ T   ┆ … ┆ 3895429     ┆ NM_000527.5(LDLR): ┆ single     ┆ 12974008    │\n",
       "│      ┆             ┆     ┆     ┆   ┆             ┆ c.67+1005C>T       ┆ nucleotide ┆             │\n",
       "│      ┆             ┆     ┆     ┆   ┆             ┆                    ┆ variant    ┆             │\n",
       "│ 6203 ┆ 11090666    ┆ C   ┆ T   ┆ … ┆ 3895058     ┆ NM_000527.5(LDLR): ┆ single     ┆ -1          │\n",
       "│      ┆             ┆     ┆     ┆   ┆             ┆ c.67+1051C>T       ┆ nucleotide ┆             │\n",
       "│      ┆             ┆     ┆     ┆   ┆             ┆                    ┆ variant    ┆             │\n",
       "│ 6227 ┆ 11090690    ┆ G   ┆ A   ┆ … ┆ 1119727     ┆ NM_000527.5(LDLR): ┆ single     ┆ 764612255   │\n",
       "│      ┆             ┆     ┆     ┆   ┆             ┆ c.67+1075G>A       ┆ nucleotide ┆             │\n",
       "│      ┆             ┆     ┆     ┆   ┆             ┆                    ┆ variant    ┆             │\n",
       "│ 7167 ┆ 11091630    ┆ G   ┆ T   ┆ … ┆ 250988      ┆ NM_000527.5(LDLR): ┆ single     ┆ 6511720     │\n",
       "│      ┆             ┆     ┆     ┆   ┆             ┆ c.67+2015G>T       ┆ nucleotide ┆             │\n",
       "│      ┆             ┆     ┆     ┆   ┆             ┆                    ┆ variant    ┆             │\n",
       "└──────┴─────────────┴─────┴─────┴───┴─────────────┴────────────────────┴────────────┴─────────────┘"
      ]
     },
     "execution_count": 105,
     "metadata": {},
     "output_type": "execute_result"
    }
   ],
   "source": [
    "df_join.filter(pl.col(\"ClinicalSignificance\").is_not_null()).sort(\"genomic_pos\")"
   ]
  },
  {
   "cell_type": "markdown",
   "id": "23081e3e-6b4e-4560-9c61-258ba6e3c4c1",
   "metadata": {},
   "source": [
    "# Analysis & visualization"
   ]
  },
  {
   "cell_type": "code",
   "execution_count": 108,
   "id": "d01c446a-fc79-4c24-9bb0-5da5fe988a16",
   "metadata": {},
   "outputs": [],
   "source": [
    "# Worst-case ΔlogP at each position (most “disruptive” ALT)\n",
    "per_pos_min = (\n",
    "    df.group_by(\"pos0\")\n",
    "      .agg(pl.col(\"delta_logp\").min().alias(\"min_delta_logp\"))\n",
    "      .sort(\"pos0\")\n",
    ")\n",
    "x = per_pos_min[\"pos0\"].to_numpy() - RANGE\n",
    "y = per_pos_min[\"min_delta_logp\"].to_numpy()"
   ]
  },
  {
   "cell_type": "code",
   "execution_count": 109,
   "id": "0aa0bc79-9b1a-49b6-be05-b788836b5554",
   "metadata": {},
   "outputs": [
    {
     "data": {
      "image/png": "[encoded data removed]",
      "text/plain": [
       "<Figure size 1000x300 with 1 Axes>"
      ]
     },
     "metadata": {},
     "output_type": "display_data"
    }
   ],
   "source": [
    "plt.figure(figsize=(10,3))\n",
    "plt.axvline(0, linestyle=\"--\")  # TSS\n",
    "plt.plot(x, y)\n",
    "plt.xlabel(\"Position relative to TSS (bp)\")\n",
    "plt.ylabel(\"min ΔlogP across SNVs\")\n",
    "plt.title(\"Evo2 zero-shot prior: intolerance to SNVs in LDLR promoter\")\n",
    "plt.tight_layout()\n",
    "plt.show()"
   ]
  },
  {
   "cell_type": "code",
   "execution_count": null,
   "id": "d627324d-1366-4b97-b933-63acc1b69e0f",
   "metadata": {},
   "outputs": [],
   "source": []
  }
 ],
 "metadata": {
  "kernelspec": {
   "display_name": "Python [.conda-default]",
   "language": "python",
   "name": "conda-env-.conda-default-py"
  },
  "language_info": {
   "codemirror_mode": {
    "name": "ipython",
    "version": 3
   },
   "file_extension": ".py",
   "mimetype": "text/x-python",
   "name": "python",
   "nbconvert_exporter": "python",
   "pygments_lexer": "ipython3",
   "version": "3.12.11"
  }
 },
 "nbformat": 4,
 "nbformat_minor": 5
}
